{
  "cells": [
    {
      "cell_type": "markdown",
      "metadata": {
        "id": "TwoPHxcUsC1n"
      },
      "source": [
        "## Load the data"
      ]
    },
    {
      "cell_type": "code",
      "execution_count": null,
      "metadata": {
        "colab": {
          "base_uri": "https://localhost:8080/",
          "height": 224
        },
        "id": "jRtXhtGxI6mz",
        "outputId": "a41433f8-8b29-444d-ebd9-bb420376925a"
      },
      "outputs": [
        {
          "name": "stdout",
          "output_type": "stream",
          "text": [
            "(458196, 4)\n"
          ]
        },
        {
          "data": {
            "text/html": [
              "\n",
              "  <div id=\"df-4847f0b1-0f7b-4a3c-95bf-f685f175af50\">\n",
              "    <div class=\"colab-df-container\">\n",
              "      <div>\n",
              "<style scoped>\n",
              "    .dataframe tbody tr th:only-of-type {\n",
              "        vertical-align: middle;\n",
              "    }\n",
              "\n",
              "    .dataframe tbody tr th {\n",
              "        vertical-align: top;\n",
              "    }\n",
              "\n",
              "    .dataframe thead th {\n",
              "        text-align: right;\n",
              "    }\n",
              "</style>\n",
              "<table border=\"1\" class=\"dataframe\">\n",
              "  <thead>\n",
              "    <tr style=\"text-align: right;\">\n",
              "      <th></th>\n",
              "      <th>id</th>\n",
              "      <th>text</th>\n",
              "      <th>dialect</th>\n",
              "      <th>processed_text</th>\n",
              "    </tr>\n",
              "  </thead>\n",
              "  <tbody>\n",
              "    <tr>\n",
              "      <th>0</th>\n",
              "      <td>1175358310087892992</td>\n",
              "      <td>@Nw8ieJUwaCAAreT لكن بالنهاية .. ينتفض .. يغير .</td>\n",
              "      <td>13</td>\n",
              "      <td>لكن بالنهايه ينتفض يغير</td>\n",
              "    </tr>\n",
              "    <tr>\n",
              "      <th>1</th>\n",
              "      <td>1175416117793349632</td>\n",
              "      <td>@7zNqXP0yrODdRjK يعني هذا محسوب على البشر .. ح...</td>\n",
              "      <td>13</td>\n",
              "      <td>يعني هذا محسوب علي البشر حيونه وحشيه وتطلبون م...</td>\n",
              "    </tr>\n",
              "    <tr>\n",
              "      <th>2</th>\n",
              "      <td>1175450108898565888</td>\n",
              "      <td>@KanaanRema مبين من كلامه خليجي</td>\n",
              "      <td>13</td>\n",
              "      <td>مبين من كلامه خليجي</td>\n",
              "    </tr>\n",
              "    <tr>\n",
              "      <th>3</th>\n",
              "      <td>1175471073770573824</td>\n",
              "      <td>@HAIDER76128900 يسلملي مرورك وروحك الحلوه💐</td>\n",
              "      <td>13</td>\n",
              "      <td>يسلملي مرورك وروحك الحلوه</td>\n",
              "    </tr>\n",
              "    <tr>\n",
              "      <th>4</th>\n",
              "      <td>1175496913145217024</td>\n",
              "      <td>@hmo2406 وين هل الغيبه  اخ محمد 🌸🌺</td>\n",
              "      <td>13</td>\n",
              "      <td>وين هل الغيبه اخ محمد</td>\n",
              "    </tr>\n",
              "  </tbody>\n",
              "</table>\n",
              "</div>\n",
              "      <button class=\"colab-df-convert\" onclick=\"convertToInteractive('df-4847f0b1-0f7b-4a3c-95bf-f685f175af50')\"\n",
              "              title=\"Convert this dataframe to an interactive table.\"\n",
              "              style=\"display:none;\">\n",
              "        \n",
              "  <svg xmlns=\"http://www.w3.org/2000/svg\" height=\"24px\"viewBox=\"0 0 24 24\"\n",
              "       width=\"24px\">\n",
              "    <path d=\"M0 0h24v24H0V0z\" fill=\"none\"/>\n",
              "    <path d=\"M18.56 5.44l.94 2.06.94-2.06 2.06-.94-2.06-.94-.94-2.06-.94 2.06-2.06.94zm-11 1L8.5 8.5l.94-2.06 2.06-.94-2.06-.94L8.5 2.5l-.94 2.06-2.06.94zm10 10l.94 2.06.94-2.06 2.06-.94-2.06-.94-.94-2.06-.94 2.06-2.06.94z\"/><path d=\"M17.41 7.96l-1.37-1.37c-.4-.4-.92-.59-1.43-.59-.52 0-1.04.2-1.43.59L10.3 9.45l-7.72 7.72c-.78.78-.78 2.05 0 2.83L4 21.41c.39.39.9.59 1.41.59.51 0 1.02-.2 1.41-.59l7.78-7.78 2.81-2.81c.8-.78.8-2.07 0-2.86zM5.41 20L4 18.59l7.72-7.72 1.47 1.35L5.41 20z\"/>\n",
              "  </svg>\n",
              "      </button>\n",
              "      \n",
              "  <style>\n",
              "    .colab-df-container {\n",
              "      display:flex;\n",
              "      flex-wrap:wrap;\n",
              "      gap: 12px;\n",
              "    }\n",
              "\n",
              "    .colab-df-convert {\n",
              "      background-color: #E8F0FE;\n",
              "      border: none;\n",
              "      border-radius: 50%;\n",
              "      cursor: pointer;\n",
              "      display: none;\n",
              "      fill: #1967D2;\n",
              "      height: 32px;\n",
              "      padding: 0 0 0 0;\n",
              "      width: 32px;\n",
              "    }\n",
              "\n",
              "    .colab-df-convert:hover {\n",
              "      background-color: #E2EBFA;\n",
              "      box-shadow: 0px 1px 2px rgba(60, 64, 67, 0.3), 0px 1px 3px 1px rgba(60, 64, 67, 0.15);\n",
              "      fill: #174EA6;\n",
              "    }\n",
              "\n",
              "    [theme=dark] .colab-df-convert {\n",
              "      background-color: #3B4455;\n",
              "      fill: #D2E3FC;\n",
              "    }\n",
              "\n",
              "    [theme=dark] .colab-df-convert:hover {\n",
              "      background-color: #434B5C;\n",
              "      box-shadow: 0px 1px 3px 1px rgba(0, 0, 0, 0.15);\n",
              "      filter: drop-shadow(0px 1px 2px rgba(0, 0, 0, 0.3));\n",
              "      fill: #FFFFFF;\n",
              "    }\n",
              "  </style>\n",
              "\n",
              "      <script>\n",
              "        const buttonEl =\n",
              "          document.querySelector('#df-4847f0b1-0f7b-4a3c-95bf-f685f175af50 button.colab-df-convert');\n",
              "        buttonEl.style.display =\n",
              "          google.colab.kernel.accessAllowed ? 'block' : 'none';\n",
              "\n",
              "        async function convertToInteractive(key) {\n",
              "          const element = document.querySelector('#df-4847f0b1-0f7b-4a3c-95bf-f685f175af50');\n",
              "          const dataTable =\n",
              "            await google.colab.kernel.invokeFunction('convertToInteractive',\n",
              "                                                     [key], {});\n",
              "          if (!dataTable) return;\n",
              "\n",
              "          const docLinkHtml = 'Like what you see? Visit the ' +\n",
              "            '<a target=\"_blank\" href=https://colab.research.google.com/notebooks/data_table.ipynb>data table notebook</a>'\n",
              "            + ' to learn more about interactive tables.';\n",
              "          element.innerHTML = '';\n",
              "          dataTable['output_type'] = 'display_data';\n",
              "          await google.colab.output.renderOutput(dataTable, element);\n",
              "          const docLink = document.createElement('div');\n",
              "          docLink.innerHTML = docLinkHtml;\n",
              "          element.appendChild(docLink);\n",
              "        }\n",
              "      </script>\n",
              "    </div>\n",
              "  </div>\n",
              "  "
            ],
            "text/plain": [
              "                    id                                               text  \\\n",
              "0  1175358310087892992   @Nw8ieJUwaCAAreT لكن بالنهاية .. ينتفض .. يغير .   \n",
              "1  1175416117793349632  @7zNqXP0yrODdRjK يعني هذا محسوب على البشر .. ح...   \n",
              "2  1175450108898565888                    @KanaanRema مبين من كلامه خليجي   \n",
              "3  1175471073770573824         @HAIDER76128900 يسلملي مرورك وروحك الحلوه💐   \n",
              "4  1175496913145217024                 @hmo2406 وين هل الغيبه  اخ محمد 🌸🌺   \n",
              "\n",
              "   dialect                                     processed_text  \n",
              "0       13                            لكن بالنهايه ينتفض يغير  \n",
              "1       13  يعني هذا محسوب علي البشر حيونه وحشيه وتطلبون م...  \n",
              "2       13                                مبين من كلامه خليجي  \n",
              "3       13                          يسلملي مرورك وروحك الحلوه  \n",
              "4       13                              وين هل الغيبه اخ محمد  "
            ]
          },
          "execution_count": 1,
          "metadata": {},
          "output_type": "execute_result"
        }
      ],
      "source": [
        "import pandas as pd\n",
        "data = pd.read_csv('Data\\processed_data.csv')\n",
        "print(data.shape)\n",
        "data.head()"
      ]
    },
    {
      "cell_type": "markdown",
      "metadata": {
        "id": "Ca3J1aqjsJzc"
      },
      "source": [
        "## Split data"
      ]
    },
    {
      "cell_type": "code",
      "execution_count": null,
      "metadata": {
        "id": "HsE-IslkweuJ"
      },
      "outputs": [],
      "source": [
        "import warnings\n",
        "warnings.filterwarnings(\"ignore\")\n",
        "\n",
        "X = data['processed_text']\n",
        "y = data['dialect']"
      ]
    },
    {
      "cell_type": "code",
      "execution_count": null,
      "metadata": {
        "id": "Vl4vDLI_BGq-"
      },
      "outputs": [],
      "source": [
        "from sklearn.model_selection import train_test_split\n",
        "X_train, X_test, y_train, y_test = train_test_split(X, y, random_state=42)"
      ]
    },
    {
      "cell_type": "markdown",
      "metadata": {
        "id": "HdzWRUIZsb7H"
      },
      "source": [
        "## Methods we will use"
      ]
    },
    {
      "cell_type": "markdown",
      "metadata": {
        "id": "0-L6tS6QvWMM"
      },
      "source": [
        "### report method to see our model"
      ]
    },
    {
      "cell_type": "code",
      "execution_count": null,
      "metadata": {
        "id": "zYSjF5laphbW"
      },
      "outputs": [],
      "source": [
        "import matplotlib.pyplot as plt \n",
        "from sklearn.metrics import plot_confusion_matrix, accuracy_score, classification_report\n",
        "\n",
        "def report(model, X_train, y_train, X_test, y_test):\n",
        "  train_acc = model.score(X_train, y_train)   # to see train accuracy\n",
        "  test_acc = model.score(X_test, y_test)    # to see test accuracy\n",
        "  print(f'Train acc: {train_acc}')\n",
        "  print(f'Test acc: {test_acc}')\n",
        "\n",
        "  predictions=model.predict(X_test)    # this is predictions\n",
        "  cr = classification_report(predictions,y_test)  # to see precision and recall and f1_score for each label \n",
        "  print(cr)\n",
        " \n",
        "  fig, ax = plt.subplots(figsize=(12, 12))  \n",
        "  plot_confusion_matrix(model, X_test, y_test, ax=ax)  # to plot predictions\n",
        "  plt.show()\n"
      ]
    },
    {
      "cell_type": "markdown",
      "metadata": {
        "id": "MIEW4pSpvbdh"
      },
      "source": [
        "### text_fit_predict_without_imbalanced method to fit our model with orignal processed data"
      ]
    },
    {
      "cell_type": "code",
      "execution_count": null,
      "metadata": {
        "id": "ZsICrZekBMBR"
      },
      "outputs": [],
      "source": [
        "# this method to fit our orignal data\n",
        "def text_fit_predict_without_imbalanced(X_train, X_test, y_train, y_test, model_model):\n",
        "\n",
        "  model = model_model.fit(X_train, y_train)  # fit our model\n",
        "  train_acc = model.score(X_train, y_train)   # to see train accuracy\n",
        "  test_acc = model.score(X_test, y_test)    # to see test accuracy\n",
        "  print(f'Train acc: {train_acc}')\n",
        "  print(f'Test acc: {test_acc}')\n",
        "\n",
        "  return model\n"
      ]
    },
    {
      "cell_type": "markdown",
      "metadata": {
        "id": "7Z-chhl4vrkQ"
      },
      "source": [
        "### text_fit_predict_with_imbalanced method to fit model with resample processed data"
      ]
    },
    {
      "cell_type": "code",
      "execution_count": null,
      "metadata": {
        "id": "lEbE9txJBOLT"
      },
      "outputs": [],
      "source": [
        "# this method to resample our data and fit it because our data is imbalanced\n",
        "def text_fit_predict_with_imbalanced(X_train, X_test, y_train, y_test, model_model, re_sample):\n",
        "  \n",
        "  print('features: {}'.format(X_train.shape[1]))\n",
        "\n",
        "  os =  re_sample  # type of resample (RandomOverSampler or SMOTE)\n",
        "  X_res, y_res = os.fit_resample(X_train, y_train)  # fit resample data\n",
        "  print(f'resample: {X_res.shape, y_res.shape}')\n",
        "\n",
        "  model=model_model.fit(X_res, y_res)  # fit our model\n",
        "  train_acc = model.score(X_train, y_train)   # to see train accuracy\n",
        "  test_acc = model.score(X_test, y_test)    # to see test accuracy\n",
        "  print(f'Train acc: {train_acc}')\n",
        "  print(f'Test acc: {test_acc}')\n",
        "\n",
        "  return model\n"
      ]
    },
    {
      "cell_type": "markdown",
      "metadata": {
        "id": "OEaPs7ENuAYH"
      },
      "source": [
        "## Build classification models"
      ]
    },
    {
      "cell_type": "markdown",
      "metadata": {
        "id": "mSTdT1YXv2u_"
      },
      "source": [
        "### Build models with CountVectorizer "
      ]
    },
    {
      "cell_type": "markdown",
      "metadata": {
        "id": "MH-g_2cBwJEA"
      },
      "source": [
        "#### with orignal processed data"
      ]
    },
    {
      "cell_type": "code",
      "execution_count": null,
      "metadata": {
        "colab": {
          "base_uri": "https://localhost:8080/"
        },
        "id": "gBqaxU79Uq1a",
        "outputId": "b96362cc-d11d-4858-ffcb-60aecb7cb520"
      },
      "outputs": [
        {
          "name": "stdout",
          "output_type": "stream",
          "text": [
            "Collecting Arabic-Stopwords\n",
            "  Downloading Arabic_Stopwords-0.3-py3-none-any.whl (353 kB)\n",
            "\u001b[K     |████████████████████████████████| 353 kB 5.5 MB/s \n",
            "\u001b[?25hCollecting pyarabic>=0.6.2\n",
            "  Downloading PyArabic-0.6.14-py3-none-any.whl (126 kB)\n",
            "\u001b[K     |████████████████████████████████| 126 kB 40.9 MB/s \n",
            "\u001b[?25hRequirement already satisfied: six>=1.14.0 in /usr/local/lib/python3.7/dist-packages (from pyarabic>=0.6.2->Arabic-Stopwords) (1.15.0)\n",
            "Installing collected packages: pyarabic, Arabic-Stopwords\n",
            "Successfully installed Arabic-Stopwords-0.3 pyarabic-0.6.14\n"
          ]
        }
      ],
      "source": [
        "pip install Arabic-Stopwords"
      ]
    },
    {
      "cell_type": "code",
      "execution_count": null,
      "metadata": {
        "colab": {
          "base_uri": "https://localhost:8080/"
        },
        "id": "8VCgOCbiBODY",
        "outputId": "9c586c2b-4e73-44b0-ac0e-d2a3b568541f"
      },
      "outputs": [
        {
          "name": "stdout",
          "output_type": "stream",
          "text": [
            "Train acc: 0.6339324946820429\n",
            "Test acc: 0.5018638311988756\n"
          ]
        }
      ],
      "source": [
        "import arabicstopwords.arabicstopwords as stp   # to remove arabic stop words\n",
        "from sklearn.linear_model import LogisticRegression  # our model used solver 'sag' because our data is large\n",
        "from sklearn.feature_extraction.text import CountVectorizer # type of feature_extraction\n",
        "\n",
        "cntVec = CountVectorizer(stop_words = stp.STOPWORDS)\n",
        "X_train_c = cntVec.fit_transform(X_train)  # fit X_train only\n",
        "X_test_c = cntVec.transform(X_test)  # transform X_test\n",
        "model1 = text_fit_predict_without_imbalanced(X_train_c, X_test_c, y_train, y_test, LogisticRegression(solver='sag'))"
      ]
    },
    {
      "cell_type": "markdown",
      "metadata": {
        "id": "ysRgZw-_wRqf"
      },
      "source": [
        "#### with resample data with RandomOverSampler"
      ]
    },
    {
      "cell_type": "code",
      "execution_count": null,
      "metadata": {
        "colab": {
          "base_uri": "https://localhost:8080/"
        },
        "id": "i8_6CVz1Cogx",
        "outputId": "612734a6-c799-4853-d3a3-206f1ae45ce8"
      },
      "outputs": [
        {
          "name": "stdout",
          "output_type": "stream",
          "text": [
            "features: 361792\n",
            "resample: ((780624, 361792), (780624,))\n",
            "Train acc: 0.6955334980372301\n",
            "Test acc: 0.49020070013705924\n"
          ]
        }
      ],
      "source": [
        "from imblearn.over_sampling import RandomOverSampler # to resample data\n",
        "model2 = text_fit_predict_with_imbalanced(X_train_c, X_test_c, y_train, y_test, LogisticRegression(solver='sag'), RandomOverSampler())"
      ]
    },
    {
      "cell_type": "markdown",
      "metadata": {
        "id": "tbuarbMfwasn"
      },
      "source": [
        "#### with resample data with SMOTE"
      ]
    },
    {
      "cell_type": "code",
      "execution_count": null,
      "metadata": {
        "colab": {
          "base_uri": "https://localhost:8080/"
        },
        "id": "NtfG1C1jGtp7",
        "outputId": "d227018e-71da-460c-f37f-28d7c941edb9"
      },
      "outputs": [
        {
          "name": "stdout",
          "output_type": "stream",
          "text": [
            "features: 361792\n",
            "resample: ((380044, 361792), (380044,))\n",
            "Train acc: 0.5903499812307397\n",
            "Test acc: 0.4688648525958323\n"
          ]
        }
      ],
      "source": [
        "from imblearn.over_sampling import SMOTE # to resample data\n",
        "model3 = text_fit_predict_with_imbalanced(X_train_c, X_test_c, y_train, y_test, LogisticRegression(solver='sag'), SMOTE(sampling_strategy='minority'))"
      ]
    },
    {
      "cell_type": "markdown",
      "metadata": {
        "id": "IXr9SsTbwesO"
      },
      "source": [
        "### Build models with TfidfVectorizer"
      ]
    },
    {
      "cell_type": "markdown",
      "metadata": {
        "id": "kCXr-DCcwm73"
      },
      "source": [
        "#### with orignal processed data"
      ]
    },
    {
      "cell_type": "code",
      "execution_count": null,
      "metadata": {
        "colab": {
          "base_uri": "https://localhost:8080/"
        },
        "id": "KRSVmJX9DCno",
        "outputId": "1521cd73-96c0-40cd-9d7a-f9af79925970"
      },
      "outputs": [
        {
          "name": "stdout",
          "output_type": "stream",
          "text": [
            "Train acc: 0.7040043998638137\n",
            "Test acc: 0.5175514408681001\n"
          ]
        }
      ],
      "source": [
        "from sklearn.feature_extraction.text import TfidfVectorizer  # feature_extraction\n",
        "\n",
        "tfidf = TfidfVectorizer(stop_words = stp.STOPWORDS)  # stp.STOPWORDS ==> arabic stop words\n",
        "X_train_tfidf = tfidf.fit_transform(X_train)  # fit X_train only\n",
        "X_test_tfidf = tfidf.transform(X_test) # transform X_test\n",
        "model4 = text_fit_predict_without_imbalanced(X_train_tfidf, X_test_tfidf, y_train, y_test, LogisticRegression(solver='sag'))"
      ]
    },
    {
      "cell_type": "markdown",
      "metadata": {
        "id": "z9f1541_wpWq"
      },
      "source": [
        "### With resample data with RandomOverSampler"
      ]
    },
    {
      "cell_type": "code",
      "execution_count": null,
      "metadata": {
        "colab": {
          "base_uri": "https://localhost:8080/"
        },
        "id": "lnHO6uylDTHk",
        "outputId": "20b66bd0-9225-4b54-ef19-b69bde6679a4"
      },
      "outputs": [
        {
          "name": "stdout",
          "output_type": "stream",
          "text": [
            "features: 361792\n",
            "resample: ((780624, 361792), (780624,))\n",
            "Train acc: 0.7777574080378994\n",
            "Test acc: 0.5088826615684118\n"
          ]
        }
      ],
      "source": [
        "model5 = text_fit_predict_with_imbalanced(X_train_tfidf, X_test_tfidf, y_train, y_test, LogisticRegression(solver='sag'), RandomOverSampler())"
      ]
    },
    {
      "cell_type": "markdown",
      "metadata": {
        "id": "0-mTMR2swvS3"
      },
      "source": [
        "### With resample data with SMOTE"
      ]
    },
    {
      "cell_type": "code",
      "execution_count": null,
      "metadata": {
        "colab": {
          "base_uri": "https://localhost:8080/"
        },
        "id": "j2YvTgjuHKKG",
        "outputId": "932c2875-f92f-4d03-f39e-a023f938ffc0"
      },
      "outputs": [
        {
          "name": "stdout",
          "output_type": "stream",
          "text": [
            "features: 361792\n",
            "resample: ((380044, 361792), (380044,))\n",
            "Train acc: 0.7005851935270787\n",
            "Test acc: 0.5111873521375132\n"
          ]
        }
      ],
      "source": [
        "model6 = text_fit_predict_with_imbalanced(X_train_tfidf, X_test_tfidf, y_train, y_test, LogisticRegression(solver='sag'),  SMOTE(sampling_strategy='minority'))"
      ]
    },
    {
      "cell_type": "code",
      "execution_count": null,
      "metadata": {
        "id": "W_yb8UdKU9A_"
      },
      "outputs": [],
      "source": [
        "import numpy as np\n",
        "from sklearn.model_selection import GridSearchCV\n",
        "\n",
        "grid={'C':10.0 **np.arange(-2,3),'max_iter':[150,200,500]}\n",
        "\n",
        "os =  RandomOverSampler() \n",
        "X_res, y_res = os.fit_resample(X_train_tfidf, y_train)  # fit resample data\n",
        "\n",
        "log_model = LogisticRegression(solver='sag')\n",
        "clf=GridSearchCV(estimator = log_model, param_grid = grid, cv = 5, n_jobs = -1, scoring = 'f1_macro')\n",
        "clf.fit(X_res, y_res )"
      ]
    },
    {
      "cell_type": "code",
      "execution_count": null,
      "metadata": {
        "colab": {
          "base_uri": "https://localhost:8080/",
          "height": 1000
        },
        "id": "2lFeQAUCivQ3",
        "outputId": "118d618f-4d2c-459b-fae3-64069603d11f"
      },
      "outputs": [
        {
          "name": "stdout",
          "output_type": "stream",
          "text": [
            "Train acc: 0.9699852108877844\n",
            "Test acc: 0.4254449457143844\n",
            "              precision    recall  f1-score   support\n",
            "\n",
            "           0       0.69      0.72      0.71     13725\n",
            "           1       0.43      0.43      0.43     10670\n",
            "           2       0.43      0.47      0.45      9782\n",
            "           3       0.59      0.62      0.61      8727\n",
            "           4       0.40      0.40      0.40      7662\n",
            "           5       0.32      0.31      0.32      7175\n",
            "           6       0.55      0.57      0.56      6659\n",
            "           7       0.34      0.33      0.33      6919\n",
            "           8       0.35      0.33      0.34      7074\n",
            "           9       0.31      0.29      0.30      7031\n",
            "          10       0.30      0.27      0.28      5405\n",
            "          11       0.32      0.30      0.31      4256\n",
            "          12       0.47      0.46      0.46      4147\n",
            "          13       0.47      0.46      0.47      3830\n",
            "          14       0.52      0.53      0.52      3509\n",
            "          15       0.55      0.57      0.56      2746\n",
            "          16       0.22      0.18      0.20      3055\n",
            "          17       0.40      0.42      0.41      2177\n",
            "\n",
            "    accuracy                           0.45    114549\n",
            "   macro avg       0.42      0.43      0.43    114549\n",
            "weighted avg       0.45      0.45      0.45    114549\n",
            "\n"
          ]
        },
        {
          "data": {
            "image/png": "[encoded data removed]",
            "text/plain": [
              "<Figure size 864x864 with 2 Axes>"
            ]
          },
          "metadata": {},
          "output_type": "display_data"
        }
      ],
      "source": [
        "report(clf, X_train_tfidf, y_train, X_test_tfidf, y_test)  # call report method"
      ]
    },
    {
      "cell_type": "markdown",
      "metadata": {},
      "source": [
        "## Build Deep learning model"
      ]
    },
    {
      "cell_type": "markdown",
      "metadata": {},
      "source": [
        "### convert labels"
      ]
    },
    {
      "cell_type": "code",
      "execution_count": null,
      "metadata": {
        "id": "8LI8gCNOnYJb"
      },
      "outputs": [],
      "source": [
        "dict = {\n",
        "    0:'EG', 1:'PL', 2:'KW', 3:'LY', 4:'QA', 5:'JO', 6:'LB', 7:'SA', 8:'AE', 9:'BH',\n",
        "    10:'OM', 11:'SY', 12:'DZ', 13:'IQ', 14:'SD', 15:'MA', 16:'YE', 17:'TN'\n",
        "}\n",
        "\n",
        "data['dialect'] = data['dialect'].map(dict)"
      ]
    },
    {
      "cell_type": "markdown",
      "metadata": {},
      "source": [
        "### Build tokenizer"
      ]
    },
    {
      "cell_type": "code",
      "execution_count": null,
      "metadata": {
        "colab": {
          "base_uri": "https://localhost:8080/"
        },
        "id": "SFz0SiSyivHJ",
        "outputId": "ab547175-3414-4e99-bd6b-e2e5d47ff5b3"
      },
      "outputs": [
        {
          "name": "stdout",
          "output_type": "stream",
          "text": [
            "Found 429893 unique tokens.\n"
          ]
        }
      ],
      "source": [
        "from keras.preprocessing.text import Tokenizer\n",
        "\n",
        "# The maximum number of words to be used. (most frequent)\n",
        "MAX_NB_WORDS = 50000\n",
        "# Max number of words in each text. (make it 150)\n",
        "MAX_SEQUENCE_LENGTH = 150\n",
        "\n",
        "EMBEDDING_DIM = 100\n",
        "\n",
        "tokenizer = Tokenizer(num_words=MAX_NB_WORDS, lower=True)\n",
        "tokenizer.fit_on_texts(data['processed_text'].values)\n",
        "word_index = tokenizer.word_index\n",
        "print('Found %s unique tokens.' % len(word_index))"
      ]
    },
    {
      "cell_type": "code",
      "execution_count": null,
      "metadata": {
        "colab": {
          "base_uri": "https://localhost:8080/"
        },
        "id": "U_Kb2NUniu8e",
        "outputId": "91587abf-9a93-48b1-b412-3b66764ed209"
      },
      "outputs": [
        {
          "name": "stdout",
          "output_type": "stream",
          "text": [
            "Shape of data tensor: (458196, 150)\n"
          ]
        }
      ],
      "source": [
        "from keras.preprocessing.sequence import pad_sequences\n",
        "\n",
        "X = tokenizer.texts_to_sequences(data['processed_text'].values)\n",
        "X = pad_sequences(X, maxlen=MAX_SEQUENCE_LENGTH)\n",
        "print('Shape of data tensor:', X.shape)"
      ]
    },
    {
      "cell_type": "code",
      "execution_count": null,
      "metadata": {
        "colab": {
          "base_uri": "https://localhost:8080/"
        },
        "id": "arAmn-r1iu0v",
        "outputId": "8f8ad50e-7d55-41ea-a666-380a7e0bd5a2"
      },
      "outputs": [
        {
          "name": "stdout",
          "output_type": "stream",
          "text": [
            "Shape of label tensor: (458196, 18)\n"
          ]
        }
      ],
      "source": [
        "Y = pd.get_dummies(data['dialect']).values\n",
        "print('Shape of label tensor:', Y.shape)"
      ]
    },
    {
      "cell_type": "markdown",
      "metadata": {},
      "source": [
        "### Split data"
      ]
    },
    {
      "cell_type": "code",
      "execution_count": null,
      "metadata": {
        "colab": {
          "base_uri": "https://localhost:8080/"
        },
        "id": "QiXQnDWwiuq0",
        "outputId": "e1e5cd61-befd-4b68-f6ec-65234e8c6f67"
      },
      "outputs": [
        {
          "name": "stdout",
          "output_type": "stream",
          "text": [
            "(366556, 150) (366556, 18)\n",
            "(91640, 150) (91640, 18)\n"
          ]
        }
      ],
      "source": [
        "X_train, X_test, Y_train, Y_test = train_test_split(X,Y, test_size = 0.20, random_state = 42)\n",
        "print(X_train.shape,Y_train.shape)\n",
        "print(X_test.shape,Y_test.shape)"
      ]
    },
    {
      "cell_type": "markdown",
      "metadata": {},
      "source": [
        "### Build & Train deep learning model with four layers"
      ]
    },
    {
      "cell_type": "code",
      "execution_count": null,
      "metadata": {
        "colab": {
          "base_uri": "https://localhost:8080/"
        },
        "id": "m-AyCdhfkQZF",
        "outputId": "babd6094-7c43-413e-92c9-34d1b6ab300a"
      },
      "outputs": [
        {
          "name": "stdout",
          "output_type": "stream",
          "text": [
            "Model: \"sequential\"\n",
            "_________________________________________________________________\n",
            " Layer (type)                Output Shape              Param #   \n",
            "=================================================================\n",
            " embedding (Embedding)       (None, 150, 100)          5000000   \n",
            "                                                                 \n",
            " spatial_dropout1d (SpatialD  (None, 150, 100)         0         \n",
            " ropout1D)                                                       \n",
            "                                                                 \n",
            " lstm (LSTM)                 (None, 100)               80400     \n",
            "                                                                 \n",
            " dense (Dense)               (None, 18)                1818      \n",
            "                                                                 \n",
            "=================================================================\n",
            "Total params: 5,082,218\n",
            "Trainable params: 5,082,218\n",
            "Non-trainable params: 0\n",
            "_________________________________________________________________\n",
            "None\n"
          ]
        }
      ],
      "source": [
        "from keras.models import Sequential\n",
        "from keras.layers import Dense, Embedding, LSTM, SpatialDropout1D, Dropout\n",
        "\n",
        "model = Sequential()\n",
        "model.add(Embedding(MAX_NB_WORDS, EMBEDDING_DIM, input_length=X_train.shape[1]))\n",
        "model.add(SpatialDropout1D(0.2))\n",
        "model.add(LSTM(100, dropout=0.2, recurrent_dropout=0.2))\n",
        "model.add(Dense(18, activation='softmax'))\n",
        "model.compile(loss='categorical_crossentropy', optimizer='adam', metrics=['accuracy'])\n",
        "print(model.summary())"
      ]
    },
    {
      "cell_type": "code",
      "execution_count": null,
      "metadata": {
        "colab": {
          "base_uri": "https://localhost:8080/"
        },
        "id": "n3yi0miokQNb",
        "outputId": "a2ebfa20-f6e9-420e-fbd2-29ef43ebba2c"
      },
      "outputs": [
        {
          "name": "stdout",
          "output_type": "stream",
          "text": [
            "Epoch 1/5\n",
            "5155/5155 [==============================] - ETA: 0s - loss: 1.8537 - accuracy: 0.4144WARNING:tensorflow:Early stopping conditioned on metric `categorical_crossentropy` which is not available. Available metrics are: loss,accuracy,val_loss,val_accuracy\n",
            "5155/5155 [==============================] - 2524s 489ms/step - loss: 1.8537 - accuracy: 0.4144 - val_loss: 1.5921 - val_accuracy: 0.4992\n",
            "Epoch 2/5\n",
            "5155/5155 [==============================] - ETA: 0s - loss: 1.4038 - accuracy: 0.5599WARNING:tensorflow:Early stopping conditioned on metric `categorical_crossentropy` which is not available. Available metrics are: loss,accuracy,val_loss,val_accuracy\n",
            "5155/5155 [==============================] - 2502s 485ms/step - loss: 1.4038 - accuracy: 0.5599 - val_loss: 1.5329 - val_accuracy: 0.5234\n",
            "Epoch 3/5\n",
            "5155/5155 [==============================] - ETA: 0s - loss: 1.2122 - accuracy: 0.6195WARNING:tensorflow:Early stopping conditioned on metric `categorical_crossentropy` which is not available. Available metrics are: loss,accuracy,val_loss,val_accuracy\n",
            "5155/5155 [==============================] - 2494s 484ms/step - loss: 1.2122 - accuracy: 0.6195 - val_loss: 1.5701 - val_accuracy: 0.5227\n",
            "Epoch 4/5\n",
            "5155/5155 [==============================] - ETA: 0s - loss: 1.0755 - accuracy: 0.6612WARNING:tensorflow:Early stopping conditioned on metric `categorical_crossentropy` which is not available. Available metrics are: loss,accuracy,val_loss,val_accuracy\n",
            "5155/5155 [==============================] - 2523s 489ms/step - loss: 1.0755 - accuracy: 0.6612 - val_loss: 1.6475 - val_accuracy: 0.5165\n",
            "Epoch 5/5\n",
            "5155/5155 [==============================] - ETA: 0s - loss: 0.9756 - accuracy: 0.6920WARNING:tensorflow:Early stopping conditioned on metric `categorical_crossentropy` which is not available. Available metrics are: loss,accuracy,val_loss,val_accuracy\n",
            "5155/5155 [==============================] - 2549s 494ms/step - loss: 0.9756 - accuracy: 0.6920 - val_loss: 1.7396 - val_accuracy: 0.5129\n"
          ]
        }
      ],
      "source": [
        "from keras.callbacks import EarlyStopping\n",
        "\n",
        "epochs = 5\n",
        "batch_size = 64\n",
        "\n",
        "history = model.fit(X_train, Y_train, \n",
        "                    epochs=epochs, \n",
        "                    batch_size=batch_size,\n",
        "                    validation_split=0.1,\n",
        "                    callbacks=[EarlyStopping(monitor='categorical_crossentropy', patience=3, min_delta=0.0001)])"
      ]
    },
    {
      "cell_type": "code",
      "execution_count": null,
      "metadata": {
        "colab": {
          "base_uri": "https://localhost:8080/"
        },
        "id": "jzirC9dVkV2Y",
        "outputId": "ae326751-0766-4a4e-d7f2-e943efb2166a"
      },
      "outputs": [
        {
          "name": "stdout",
          "output_type": "stream",
          "text": [
            "2864/2864 [==============================] - 130s 45ms/step - loss: 1.7303 - accuracy: 0.5107\n",
            "Test set\n",
            "  Loss: 1.730\n",
            "  Accuracy: 0.511\n"
          ]
        }
      ],
      "source": [
        "accr = model.evaluate(X_test,Y_test)\n",
        "print('Test set\\n  Loss: {:0.3f}\\n  Accuracy: {:0.3f}'.format(accr[0],accr[1]))"
      ]
    },
    {
      "cell_type": "markdown",
      "metadata": {
        "id": "c5AFtub8xGCd"
      },
      "source": [
        "## Save models using pickle"
      ]
    },
    {
      "cell_type": "code",
      "execution_count": null,
      "metadata": {
        "colab": {
          "base_uri": "https://localhost:8080/"
        },
        "id": "fp3CLwhcRWep",
        "outputId": "1e2b628b-bef7-46d4-e58f-4622fd46ccc3"
      },
      "outputs": [
        {
          "name": "stdout",
          "output_type": "stream",
          "text": [
            "INFO:tensorflow:Assets written to: ram://6aa843ad-90de-43d3-8acd-cb3613b72b83/assets\n"
          ]
        },
        {
          "name": "stderr",
          "output_type": "stream",
          "text": [
            "WARNING:absl:<keras.layers.recurrent.LSTMCell object at 0x7f6262f2b6d0> has the same name 'LSTMCell' as a built-in Keras object. Consider renaming <class 'keras.layers.recurrent.LSTMCell'> to avoid naming conflicts when loading with `tf.keras.models.load_model`. If renaming is not possible, pass the object in the `custom_objects` parameter of the load function.\n"
          ]
        }
      ],
      "source": [
        "# best model is model4\n",
        "import pickle\n",
        "filename = 'DL_model.pkl'\n",
        "pickle.dump(model, open(filename, 'wb'))"
      ]
    },
    {
      "cell_type": "code",
      "execution_count": null,
      "metadata": {
        "id": "z3q5XN4Gxdyh"
      },
      "outputs": [],
      "source": [
        "filename = 'log_model.pkl'\n",
        "pickle.dump(model1, open(filename, 'wb'))"
      ]
    },
    {
      "cell_type": "code",
      "execution_count": null,
      "metadata": {
        "id": "wARKYBO5pKCW"
      },
      "outputs": [],
      "source": [
        "filename = 'tfidf.pkl'\n",
        "pickle.dump(tfidf, open(filename, 'wb'))"
      ]
    },
    {
      "cell_type": "code",
      "execution_count": null,
      "metadata": {
        "id": "zQVwe3LbpaLa"
      },
      "outputs": [],
      "source": [
        "filename = 'tokenizer.pkl'\n",
        "pickle.dump(tokenizer, open(filename, 'wb'))"
      ]
    },
    {
      "cell_type": "code",
      "execution_count": null,
      "metadata": {
        "id": "3osJERVgpjUx"
      },
      "outputs": [],
      "source": []
    }
  ],
  "metadata": {
    "colab": {
      "collapsed_sections": [],
      "name": "model_training.ipynb",
      "provenance": []
    },
    "interpreter": {
      "hash": "06d551a9c38e3c9226fb791b081d443165cdefd6b8907d1070492d8de0992181"
    },
    "kernelspec": {
      "display_name": "Python 3.6.5 64-bit",
      "language": "python",
      "name": "python3"
    },
    "language_info": {
      "codemirror_mode": {
        "name": "ipython",
        "version": 3
      },
      "file_extension": ".py",
      "mimetype": "text/x-python",
      "name": "python",
      "nbconvert_exporter": "python",
      "pygments_lexer": "ipython3",
      "version": "3.6.5"
    }
  },
  "nbformat": 4,
  "nbformat_minor": 0
}
