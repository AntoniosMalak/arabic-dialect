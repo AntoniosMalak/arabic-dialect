{
 "cells": [
  {
   "cell_type": "markdown",
   "metadata": {},
   "source": [
    "### Load Data"
   ]
  },
  {
   "cell_type": "code",
   "execution_count": 1,
   "metadata": {},
   "outputs": [
    {
     "name": "stdout",
     "output_type": "stream",
     "text": [
      "(458197, 3)\n"
     ]
    },
    {
     "data": {
      "text/html": [
       "<div>\n",
       "<style scoped>\n",
       "    .dataframe tbody tr th:only-of-type {\n",
       "        vertical-align: middle;\n",
       "    }\n",
       "\n",
       "    .dataframe tbody tr th {\n",
       "        vertical-align: top;\n",
       "    }\n",
       "\n",
       "    .dataframe thead th {\n",
       "        text-align: right;\n",
       "    }\n",
       "</style>\n",
       "<table border=\"1\" class=\"dataframe\">\n",
       "  <thead>\n",
       "    <tr style=\"text-align: right;\">\n",
       "      <th></th>\n",
       "      <th>id</th>\n",
       "      <th>text</th>\n",
       "      <th>dialect</th>\n",
       "    </tr>\n",
       "  </thead>\n",
       "  <tbody>\n",
       "    <tr>\n",
       "      <th>0</th>\n",
       "      <td>1175358310087892992</td>\n",
       "      <td>@Nw8ieJUwaCAAreT لكن بالنهاية .. ينتفض .. يغير .</td>\n",
       "      <td>IQ</td>\n",
       "    </tr>\n",
       "    <tr>\n",
       "      <th>1</th>\n",
       "      <td>1175416117793349632</td>\n",
       "      <td>@7zNqXP0yrODdRjK يعني هذا محسوب على البشر .. ح...</td>\n",
       "      <td>IQ</td>\n",
       "    </tr>\n",
       "    <tr>\n",
       "      <th>2</th>\n",
       "      <td>1175450108898565888</td>\n",
       "      <td>@KanaanRema مبين من كلامه خليجي</td>\n",
       "      <td>IQ</td>\n",
       "    </tr>\n",
       "    <tr>\n",
       "      <th>3</th>\n",
       "      <td>1175471073770573824</td>\n",
       "      <td>@HAIDER76128900 يسلملي مرورك وروحك الحلوه💐</td>\n",
       "      <td>IQ</td>\n",
       "    </tr>\n",
       "    <tr>\n",
       "      <th>4</th>\n",
       "      <td>1175496913145217024</td>\n",
       "      <td>@hmo2406 وين هل الغيبه  اخ محمد 🌸🌺</td>\n",
       "      <td>IQ</td>\n",
       "    </tr>\n",
       "  </tbody>\n",
       "</table>\n",
       "</div>"
      ],
      "text/plain": [
       "                    id                                               text  \\\n",
       "0  1175358310087892992   @Nw8ieJUwaCAAreT لكن بالنهاية .. ينتفض .. يغير .   \n",
       "1  1175416117793349632  @7zNqXP0yrODdRjK يعني هذا محسوب على البشر .. ح...   \n",
       "2  1175450108898565888                    @KanaanRema مبين من كلامه خليجي   \n",
       "3  1175471073770573824         @HAIDER76128900 يسلملي مرورك وروحك الحلوه💐   \n",
       "4  1175496913145217024                 @hmo2406 وين هل الغيبه  اخ محمد 🌸🌺   \n",
       "\n",
       "  dialect  \n",
       "0      IQ  \n",
       "1      IQ  \n",
       "2      IQ  \n",
       "3      IQ  \n",
       "4      IQ  "
      ]
     },
     "execution_count": 1,
     "metadata": {},
     "output_type": "execute_result"
    }
   ],
   "source": [
    "import pandas as pd\n",
    "data = pd.read_csv('Data/collected_data.csv')\n",
    "print(data.shape)\n",
    "data.head()"
   ]
  },
  {
   "cell_type": "code",
   "execution_count": 2,
   "metadata": {},
   "outputs": [
    {
     "data": {
      "text/plain": [
       "EG    57636\n",
       "PL    43742\n",
       "KW    42109\n",
       "LY    36499\n",
       "QA    31069\n",
       "JO    27921\n",
       "LB    27617\n",
       "SA    26832\n",
       "AE    26296\n",
       "BH    26292\n",
       "OM    19116\n",
       "SY    16242\n",
       "DZ    16183\n",
       "IQ    15497\n",
       "SD    14434\n",
       "MA    11539\n",
       "YE     9927\n",
       "TN     9246\n",
       "Name: dialect, dtype: int64"
      ]
     },
     "execution_count": 2,
     "metadata": {},
     "output_type": "execute_result"
    }
   ],
   "source": [
    "data['dialect'].value_counts()"
   ]
  },
  {
   "cell_type": "code",
   "execution_count": 3,
   "metadata": {},
   "outputs": [
    {
     "data": {
      "image/png": "[encoded data removed]",
      "text/plain": [
       "<Figure size 576x360 with 1 Axes>"
      ]
     },
     "metadata": {
      "needs_background": "light"
     },
     "output_type": "display_data"
    }
   ],
   "source": [
    "import seaborn as sns\n",
    "import matplotlib.pyplot as plt\n",
    "%matplotlib inline\n",
    "\n",
    "def plot(data):\n",
    "    plt.figure(figsize=(8,5))\n",
    "    sns.countplot(x = data['dialect'], data=data)\n",
    "\n",
    "plot(data)"
   ]
  },
  {
   "cell_type": "code",
   "execution_count": 4,
   "metadata": {},
   "outputs": [],
   "source": [
    "# get unique values \n",
    "def uniqe(data):\n",
    "    uniq_dialect = data.dialect.unique()\n",
    "    print(len(uniq_dialect))\n",
    "    print(uniq_dialect)"
   ]
  },
  {
   "cell_type": "code",
   "execution_count": 5,
   "metadata": {},
   "outputs": [],
   "source": [
    "# convert Labels\n",
    "dict = {\n",
    "    'EG':0, 'PL':1, 'KW':2, 'LY':3, 'QA':4, 'JO':5, 'LB':6, 'SA':7, 'AE':8, 'BH':9,\n",
    "    'OM':10, 'SY':11, 'DZ':12, 'IQ':13, 'SD':14, 'MA':15, 'YE':16, 'TN':17\n",
    "}\n",
    "data.dialect = data.dialect.map(dict)"
   ]
  },
  {
   "cell_type": "code",
   "execution_count": 6,
   "metadata": {},
   "outputs": [
    {
     "data": {
      "image/png": "[encoded data removed]",
      "text/plain": [
       "<Figure size 576x360 with 1 Axes>"
      ]
     },
     "metadata": {
      "needs_background": "light"
     },
     "output_type": "display_data"
    }
   ],
   "source": [
    "plot(data)"
   ]
  },
  {
   "cell_type": "markdown",
   "metadata": {},
   "source": [
    "### preprocessing_text as mentioned in [`Aim Technologies blog`](https://aimtechnologies.co/arabic-sentiment-analysis-blog.html?fbclid=IwAR0hlfhCOqd2xpJ3sGUb8yJbN0MzMq4dPPe6swuXwtdbCx1Mrn2I2wei3AM)"
   ]
  },
  {
   "cell_type": "code",
   "execution_count": 7,
   "metadata": {},
   "outputs": [],
   "source": [
    "# Normalizing similar characters\n",
    "# Removing tashkeel\n",
    "# Normalizing mentions and links\n",
    "# Removing unnecessary or repeated punctuation or characters\n",
    "\n",
    "import re\n",
    "from tashaphyne import normalize\n",
    "\n",
    "def cleaning(text): \n",
    "    newtext = re.sub('([@A-Za-z0-9_])|[^\\w\\s]|#|http\\S+|', '', text).replace('\\n',' ').lstrip().rstrip()\n",
    "    return re.sub(r'(.)\\1+', r'\\1', newtext)\n",
    "\n",
    "def preprocessing_text(text):\n",
    "    text = normalize.normalize_searchtext(text)\n",
    "    return cleaning(text)"
   ]
  },
  {
   "cell_type": "code",
   "execution_count": 8,
   "metadata": {},
   "outputs": [],
   "source": [
    "# input         ==> text = u'أنا إسَمى أنطـًــــــــــــــــونيوس https://www.facebook.com ملااااااك وديع@vvvv www.google.com'\n",
    "# preprocessing ==> preprocessing_text(text)\n",
    "# output        ==>'انا اسمي انطونيوس ملاك وديع'"
   ]
  },
  {
   "cell_type": "code",
   "execution_count": 9,
   "metadata": {},
   "outputs": [
    {
     "data": {
      "text/html": [
       "<div>\n",
       "<style scoped>\n",
       "    .dataframe tbody tr th:only-of-type {\n",
       "        vertical-align: middle;\n",
       "    }\n",
       "\n",
       "    .dataframe tbody tr th {\n",
       "        vertical-align: top;\n",
       "    }\n",
       "\n",
       "    .dataframe thead th {\n",
       "        text-align: right;\n",
       "    }\n",
       "</style>\n",
       "<table border=\"1\" class=\"dataframe\">\n",
       "  <thead>\n",
       "    <tr style=\"text-align: right;\">\n",
       "      <th></th>\n",
       "      <th>id</th>\n",
       "      <th>text</th>\n",
       "      <th>dialect</th>\n",
       "      <th>processed_text</th>\n",
       "    </tr>\n",
       "  </thead>\n",
       "  <tbody>\n",
       "    <tr>\n",
       "      <th>0</th>\n",
       "      <td>1175358310087892992</td>\n",
       "      <td>@Nw8ieJUwaCAAreT لكن بالنهاية .. ينتفض .. يغير .</td>\n",
       "      <td>13</td>\n",
       "      <td>لكن بالنهايه ينتفض يغير</td>\n",
       "    </tr>\n",
       "    <tr>\n",
       "      <th>1</th>\n",
       "      <td>1175416117793349632</td>\n",
       "      <td>@7zNqXP0yrODdRjK يعني هذا محسوب على البشر .. ح...</td>\n",
       "      <td>13</td>\n",
       "      <td>يعني هذا محسوب علي البشر حيونه وحشيه وتطلبون م...</td>\n",
       "    </tr>\n",
       "    <tr>\n",
       "      <th>2</th>\n",
       "      <td>1175450108898565888</td>\n",
       "      <td>@KanaanRema مبين من كلامه خليجي</td>\n",
       "      <td>13</td>\n",
       "      <td>مبين من كلامه خليجي</td>\n",
       "    </tr>\n",
       "    <tr>\n",
       "      <th>3</th>\n",
       "      <td>1175471073770573824</td>\n",
       "      <td>@HAIDER76128900 يسلملي مرورك وروحك الحلوه💐</td>\n",
       "      <td>13</td>\n",
       "      <td>يسلملي مرورك وروحك الحلوه</td>\n",
       "    </tr>\n",
       "    <tr>\n",
       "      <th>4</th>\n",
       "      <td>1175496913145217024</td>\n",
       "      <td>@hmo2406 وين هل الغيبه  اخ محمد 🌸🌺</td>\n",
       "      <td>13</td>\n",
       "      <td>وين هل الغيبه اخ محمد</td>\n",
       "    </tr>\n",
       "  </tbody>\n",
       "</table>\n",
       "</div>"
      ],
      "text/plain": [
       "                    id                                               text  \\\n",
       "0  1175358310087892992   @Nw8ieJUwaCAAreT لكن بالنهاية .. ينتفض .. يغير .   \n",
       "1  1175416117793349632  @7zNqXP0yrODdRjK يعني هذا محسوب على البشر .. ح...   \n",
       "2  1175450108898565888                    @KanaanRema مبين من كلامه خليجي   \n",
       "3  1175471073770573824         @HAIDER76128900 يسلملي مرورك وروحك الحلوه💐   \n",
       "4  1175496913145217024                 @hmo2406 وين هل الغيبه  اخ محمد 🌸🌺   \n",
       "\n",
       "   dialect                                     processed_text  \n",
       "0       13                            لكن بالنهايه ينتفض يغير  \n",
       "1       13  يعني هذا محسوب علي البشر حيونه وحشيه وتطلبون م...  \n",
       "2       13                                مبين من كلامه خليجي  \n",
       "3       13                          يسلملي مرورك وروحك الحلوه  \n",
       "4       13                              وين هل الغيبه اخ محمد  "
      ]
     },
     "execution_count": 9,
     "metadata": {},
     "output_type": "execute_result"
    }
   ],
   "source": [
    "# make a new column called it processed_text\n",
    "data['processed_text'] =  data['text'].apply(preprocessing_text)\n",
    "data.head() "
   ]
  },
  {
   "cell_type": "code",
   "execution_count": 10,
   "metadata": {},
   "outputs": [],
   "source": [
    "# Save data\n",
    "data.to_csv('Data/processed_data.csv', index=False)"
   ]
  },
  {
   "cell_type": "code",
   "execution_count": 11,
   "metadata": {},
   "outputs": [
    {
     "data": {
      "text/html": [
       "<div>\n",
       "<style scoped>\n",
       "    .dataframe tbody tr th:only-of-type {\n",
       "        vertical-align: middle;\n",
       "    }\n",
       "\n",
       "    .dataframe tbody tr th {\n",
       "        vertical-align: top;\n",
       "    }\n",
       "\n",
       "    .dataframe thead th {\n",
       "        text-align: right;\n",
       "    }\n",
       "</style>\n",
       "<table border=\"1\" class=\"dataframe\">\n",
       "  <thead>\n",
       "    <tr style=\"text-align: right;\">\n",
       "      <th></th>\n",
       "      <th>id</th>\n",
       "      <th>text</th>\n",
       "      <th>dialect</th>\n",
       "      <th>processed_text</th>\n",
       "    </tr>\n",
       "  </thead>\n",
       "  <tbody>\n",
       "    <tr>\n",
       "      <th>0</th>\n",
       "      <td>1175358310087892992</td>\n",
       "      <td>@Nw8ieJUwaCAAreT لكن بالنهاية .. ينتفض .. يغير .</td>\n",
       "      <td>13</td>\n",
       "      <td>لكن بالنهايه ينتفض يغير</td>\n",
       "    </tr>\n",
       "    <tr>\n",
       "      <th>1</th>\n",
       "      <td>1175416117793349632</td>\n",
       "      <td>@7zNqXP0yrODdRjK يعني هذا محسوب على البشر .. ح...</td>\n",
       "      <td>13</td>\n",
       "      <td>يعني هذا محسوب علي البشر حيونه وحشيه وتطلبون م...</td>\n",
       "    </tr>\n",
       "    <tr>\n",
       "      <th>2</th>\n",
       "      <td>1175450108898565888</td>\n",
       "      <td>@KanaanRema مبين من كلامه خليجي</td>\n",
       "      <td>13</td>\n",
       "      <td>مبين من كلامه خليجي</td>\n",
       "    </tr>\n",
       "    <tr>\n",
       "      <th>3</th>\n",
       "      <td>1175471073770573824</td>\n",
       "      <td>@HAIDER76128900 يسلملي مرورك وروحك الحلوه💐</td>\n",
       "      <td>13</td>\n",
       "      <td>يسلملي مرورك وروحك الحلوه</td>\n",
       "    </tr>\n",
       "    <tr>\n",
       "      <th>4</th>\n",
       "      <td>1175496913145217024</td>\n",
       "      <td>@hmo2406 وين هل الغيبه  اخ محمد 🌸🌺</td>\n",
       "      <td>13</td>\n",
       "      <td>وين هل الغيبه اخ محمد</td>\n",
       "    </tr>\n",
       "  </tbody>\n",
       "</table>\n",
       "</div>"
      ],
      "text/plain": [
       "                    id                                               text  \\\n",
       "0  1175358310087892992   @Nw8ieJUwaCAAreT لكن بالنهاية .. ينتفض .. يغير .   \n",
       "1  1175416117793349632  @7zNqXP0yrODdRjK يعني هذا محسوب على البشر .. ح...   \n",
       "2  1175450108898565888                    @KanaanRema مبين من كلامه خليجي   \n",
       "3  1175471073770573824         @HAIDER76128900 يسلملي مرورك وروحك الحلوه💐   \n",
       "4  1175496913145217024                 @hmo2406 وين هل الغيبه  اخ محمد 🌸🌺   \n",
       "\n",
       "   dialect                                     processed_text  \n",
       "0       13                            لكن بالنهايه ينتفض يغير  \n",
       "1       13  يعني هذا محسوب علي البشر حيونه وحشيه وتطلبون م...  \n",
       "2       13                                مبين من كلامه خليجي  \n",
       "3       13                          يسلملي مرورك وروحك الحلوه  \n",
       "4       13                              وين هل الغيبه اخ محمد  "
      ]
     },
     "execution_count": 11,
     "metadata": {},
     "output_type": "execute_result"
    }
   ],
   "source": [
    "df = pd.read_csv('Data/processed_data.csv')\n",
    "df.head()"
   ]
  },
  {
   "cell_type": "code",
   "execution_count": 12,
   "metadata": {},
   "outputs": [
    {
     "ename": "TypeError",
     "evalue": "object of type 'float' has no len()",
     "output_type": "error",
     "traceback": [
      "\u001b[1;31m---------------------------------------------------------------------------\u001b[0m",
      "\u001b[1;31mTypeError\u001b[0m                                 Traceback (most recent call last)",
      "\u001b[1;32m<ipython-input-12-0a64502cc1b4>\u001b[0m in \u001b[0;36m<module>\u001b[1;34m\u001b[0m\n\u001b[0;32m      5\u001b[0m     \u001b[0mtext\u001b[0m \u001b[1;33m=\u001b[0m \u001b[0mtexts\u001b[0m\u001b[1;33m[\u001b[0m\u001b[0mi\u001b[0m\u001b[1;33m]\u001b[0m\u001b[1;33m\u001b[0m\u001b[0m\n\u001b[0;32m      6\u001b[0m     \u001b[0mids\u001b[0m\u001b[1;33m.\u001b[0m\u001b[0mappend\u001b[0m\u001b[1;33m(\u001b[0m\u001b[0mid\u001b[0m\u001b[1;33m[\u001b[0m\u001b[0mi\u001b[0m\u001b[1;33m]\u001b[0m\u001b[1;33m)\u001b[0m\u001b[1;33m\u001b[0m\u001b[0m\n\u001b[1;32m----> 7\u001b[1;33m     \u001b[1;32mif\u001b[0m \u001b[0mlen\u001b[0m\u001b[1;33m(\u001b[0m\u001b[0mtext\u001b[0m\u001b[1;33m)\u001b[0m\u001b[1;33m==\u001b[0m\u001b[1;36m0\u001b[0m\u001b[1;33m:\u001b[0m\u001b[1;33m\u001b[0m\u001b[0m\n\u001b[0m\u001b[0;32m      8\u001b[0m         \u001b[0mprint\u001b[0m\u001b[1;33m(\u001b[0m\u001b[0mid\u001b[0m\u001b[1;33m)\u001b[0m\u001b[1;33m\u001b[0m\u001b[0m\n",
      "\u001b[1;31mTypeError\u001b[0m: object of type 'float' has no len()"
     ]
    }
   ],
   "source": [
    "# check if we have any messing values in processed_text \n",
    "# I used this way because type of missing value is float\n",
    "texts = list(df['processed_text'])\n",
    "id = list(df['id'])\n",
    "ids = list()\n",
    "for i in range(len(texts)):\n",
    "    text = texts[i]\n",
    "    ids.append(id[i])\n",
    "    if len(text)==0:\n",
    "        print(id)"
   ]
  },
  {
   "cell_type": "code",
   "execution_count": 13,
   "metadata": {},
   "outputs": [
    {
     "name": "stdout",
     "output_type": "stream",
     "text": [
      "1173616403557081088\n"
     ]
    },
    {
     "data": {
      "text/html": [
       "<div>\n",
       "<style scoped>\n",
       "    .dataframe tbody tr th:only-of-type {\n",
       "        vertical-align: middle;\n",
       "    }\n",
       "\n",
       "    .dataframe tbody tr th {\n",
       "        vertical-align: top;\n",
       "    }\n",
       "\n",
       "    .dataframe thead th {\n",
       "        text-align: right;\n",
       "    }\n",
       "</style>\n",
       "<table border=\"1\" class=\"dataframe\">\n",
       "  <thead>\n",
       "    <tr style=\"text-align: right;\">\n",
       "      <th></th>\n",
       "      <th>id</th>\n",
       "      <th>text</th>\n",
       "      <th>dialect</th>\n",
       "      <th>processed_text</th>\n",
       "    </tr>\n",
       "  </thead>\n",
       "  <tbody>\n",
       "    <tr>\n",
       "      <th>212439</th>\n",
       "      <td>1173616403557081088</td>\n",
       "      <td>This Tweet from @F_0094 has been withheld in r...</td>\n",
       "      <td>7</td>\n",
       "      <td>NaN</td>\n",
       "    </tr>\n",
       "  </tbody>\n",
       "</table>\n",
       "</div>"
      ],
      "text/plain": [
       "                         id  \\\n",
       "212439  1173616403557081088   \n",
       "\n",
       "                                                     text  dialect  \\\n",
       "212439  This Tweet from @F_0094 has been withheld in r...        7   \n",
       "\n",
       "       processed_text  \n",
       "212439            NaN  "
      ]
     },
     "execution_count": 13,
     "metadata": {},
     "output_type": "execute_result"
    }
   ],
   "source": [
    "# see this row\n",
    "print(ids[len(ids)-1])\n",
    "df[df['id']==1173616403557081088]"
   ]
  },
  {
   "cell_type": "code",
   "execution_count": 14,
   "metadata": {},
   "outputs": [
    {
     "name": "stdout",
     "output_type": "stream",
     "text": [
      "(458197, 4)\n",
      "(458196, 4)\n"
     ]
    }
   ],
   "source": [
    "# drop this row\n",
    "df = df[df['id']!=1173616403557081088]\n",
    "print(data.shape)\n",
    "print(df.shape)"
   ]
  },
  {
   "cell_type": "code",
   "execution_count": 15,
   "metadata": {},
   "outputs": [],
   "source": [
    "# save data\n",
    "df.to_csv('Data/processed_data.csv', index=False)"
   ]
  },
  {
   "cell_type": "code",
   "execution_count": null,
   "metadata": {},
   "outputs": [],
   "source": []
  }
 ],
 "metadata": {
  "interpreter": {
   "hash": "06d551a9c38e3c9226fb791b081d443165cdefd6b8907d1070492d8de0992181"
  },
  "kernelspec": {
   "display_name": "Python 3.6.5 64-bit",
   "language": "python",
   "name": "python3"
  },
  "language_info": {
   "codemirror_mode": {
    "name": "ipython",
    "version": 3
   },
   "file_extension": ".py",
   "mimetype": "text/x-python",
   "name": "python",
   "nbconvert_exporter": "python",
   "pygments_lexer": "ipython3",
   "version": "3.6.5"
  },
  "orig_nbformat": 4
 },
 "nbformat": 4,
 "nbformat_minor": 2
}
